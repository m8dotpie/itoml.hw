{
    "cells": [
        {
            "cell_type": "markdown",
            "metadata": {},
            "source": [
                "### Lab-3 : Self-Practice\n",
                "\n",
                "#### In this week, your self-practice task will consist to analyze the impact of class imballance on the performance of the logistic regression model.\n",
                "\n",
                "#### Class imbalance is very common in real life. For example, in a classification problem to predict whether a person has a certain very rare disease, the dataset will always contain more negative samples than positive ones. This situation can have a significant impact on the performance of the model. You will analyze this situation in the case of the Titanic dataset used in the lab."
            ]
        },
        {
            "cell_type": "markdown",
            "metadata": {},
            "source": [
                "### 1. Load the titanic dataset and <b>PLOT</b> the proportion of positive and negative samples (survived vs non survived)"
            ]
        },
        {
            "cell_type": "code",
            "execution_count": 8,
            "metadata": {},
            "outputs": [],
            "source": [
                "import pandas as pd\n",
                "import numpy as np\n",
                "import random\n",
                "import matplotlib.pyplot as plt\n",
                "\n",
                "from sklearn.impute import SimpleImputer\n",
                "from sklearn.preprocessing import OneHotEncoder\n",
                "from sklearn.preprocessing import MinMaxScaler\n",
                "\n",
                "from sklearn.metrics import ConfusionMatrixDisplay\n",
                "\n",
                "from sklearn.linear_model import LogisticRegression\n",
                "from sklearn import metrics\n",
                "\n",
                "from sklearn.model_selection import train_test_split"
            ]
        },
        {
            "cell_type": "code",
            "execution_count": 2,
            "metadata": {},
            "outputs": [
                {
                    "data": {
                        "text/html": [
                            "<div>\n",
                            "<style scoped>\n",
                            "    .dataframe tbody tr th:only-of-type {\n",
                            "        vertical-align: middle;\n",
                            "    }\n",
                            "\n",
                            "    .dataframe tbody tr th {\n",
                            "        vertical-align: top;\n",
                            "    }\n",
                            "\n",
                            "    .dataframe thead th {\n",
                            "        text-align: right;\n",
                            "    }\n",
                            "</style>\n",
                            "<table border=\"1\" class=\"dataframe\">\n",
                            "  <thead>\n",
                            "    <tr style=\"text-align: right;\">\n",
                            "      <th></th>\n",
                            "      <th>survived</th>\n",
                            "      <th>pclass</th>\n",
                            "      <th>name</th>\n",
                            "      <th>sex</th>\n",
                            "      <th>age</th>\n",
                            "      <th>sibsp</th>\n",
                            "      <th>parch</th>\n",
                            "      <th>fare</th>\n",
                            "      <th>embarked</th>\n",
                            "    </tr>\n",
                            "  </thead>\n",
                            "  <tbody>\n",
                            "    <tr>\n",
                            "      <th>0</th>\n",
                            "      <td>1</td>\n",
                            "      <td>1</td>\n",
                            "      <td>Allen, Miss. Elisabeth Walton</td>\n",
                            "      <td>female</td>\n",
                            "      <td>29.00</td>\n",
                            "      <td>0</td>\n",
                            "      <td>0</td>\n",
                            "      <td>211.3375</td>\n",
                            "      <td>S</td>\n",
                            "    </tr>\n",
                            "    <tr>\n",
                            "      <th>1</th>\n",
                            "      <td>1</td>\n",
                            "      <td>1</td>\n",
                            "      <td>Allison, Master. Hudson Trevor</td>\n",
                            "      <td>male</td>\n",
                            "      <td>0.92</td>\n",
                            "      <td>1</td>\n",
                            "      <td>2</td>\n",
                            "      <td>151.5500</td>\n",
                            "      <td>S</td>\n",
                            "    </tr>\n",
                            "    <tr>\n",
                            "      <th>2</th>\n",
                            "      <td>0</td>\n",
                            "      <td>1</td>\n",
                            "      <td>Allison, Miss. Helen Loraine</td>\n",
                            "      <td>female</td>\n",
                            "      <td>2.00</td>\n",
                            "      <td>1</td>\n",
                            "      <td>2</td>\n",
                            "      <td>151.5500</td>\n",
                            "      <td>S</td>\n",
                            "    </tr>\n",
                            "    <tr>\n",
                            "      <th>3</th>\n",
                            "      <td>0</td>\n",
                            "      <td>1</td>\n",
                            "      <td>Allison, Mr. Hudson Joshua Creighton</td>\n",
                            "      <td>male</td>\n",
                            "      <td>30.00</td>\n",
                            "      <td>1</td>\n",
                            "      <td>2</td>\n",
                            "      <td>151.5500</td>\n",
                            "      <td>S</td>\n",
                            "    </tr>\n",
                            "    <tr>\n",
                            "      <th>4</th>\n",
                            "      <td>0</td>\n",
                            "      <td>1</td>\n",
                            "      <td>Allison, Mrs. Hudson J C (Bessie Waldo Daniels)</td>\n",
                            "      <td>female</td>\n",
                            "      <td>25.00</td>\n",
                            "      <td>1</td>\n",
                            "      <td>2</td>\n",
                            "      <td>151.5500</td>\n",
                            "      <td>S</td>\n",
                            "    </tr>\n",
                            "  </tbody>\n",
                            "</table>\n",
                            "</div>"
                        ],
                        "text/plain": [
                            "   survived  pclass                                             name     sex  \\\n",
                            "0         1       1                    Allen, Miss. Elisabeth Walton  female   \n",
                            "1         1       1                   Allison, Master. Hudson Trevor    male   \n",
                            "2         0       1                     Allison, Miss. Helen Loraine  female   \n",
                            "3         0       1             Allison, Mr. Hudson Joshua Creighton    male   \n",
                            "4         0       1  Allison, Mrs. Hudson J C (Bessie Waldo Daniels)  female   \n",
                            "\n",
                            "     age  sibsp  parch      fare embarked  \n",
                            "0  29.00      0      0  211.3375        S  \n",
                            "1   0.92      1      2  151.5500        S  \n",
                            "2   2.00      1      2  151.5500        S  \n",
                            "3  30.00      1      2  151.5500        S  \n",
                            "4  25.00      1      2  151.5500        S  "
                        ]
                    },
                    "execution_count": 2,
                    "metadata": {},
                    "output_type": "execute_result"
                }
            ],
            "source": [
                "### write your code here. Load the dataset and plot (barplot) proportion of each class \n",
                "titanic = pd.read_csv('titanic.csv')\n",
                "titanic.head()"
            ]
        },
        {
            "cell_type": "code",
            "execution_count": 3,
            "metadata": {},
            "outputs": [
                {
                    "data": {
                        "text/plain": [
                            "<AxesSubplot:>"
                        ]
                    },
                    "execution_count": 3,
                    "metadata": {},
                    "output_type": "execute_result"
                },
                {
                    "data": {
                        "image/png": "[encoded data removed]",
                        "text/plain": [
                            "<Figure size 432x288 with 1 Axes>"
                        ]
                    },
                    "metadata": {
                        "needs_background": "light"
                    },
                    "output_type": "display_data"
                }
            ],
            "source": [
                "titanic.survived.hist()"
            ]
        },
        {
            "cell_type": "markdown",
            "metadata": {},
            "source": [
                "#### Preprocess the data as it has been done in the lab, feel free to adapt"
            ]
        },
        {
            "cell_type": "code",
            "execution_count": 4,
            "metadata": {},
            "outputs": [],
            "source": [
                "def preprocess(dataset):\n",
                "\n",
                "    data = dataset.drop(columns=['name'])\n",
                "\n",
                "    #print('% of positive samples in whole data:', sum(data['survived'] == 1) / len(data))\n",
                "    x_train, x_test, y_train, y_test = train_test_split(data.loc[:, 'pclass':], data['survived'],\n",
                "                                                    test_size=0.2, stratify=data['survived'])\n",
                "\n",
                "    #print('% of positive samples in train set:', sum(y_train== 1) / len(x_train))\n",
                "    #print('% of positive samples in test set:', sum(y_test== 1) / len(x_test))\n",
                "    # imputing missing values\n",
                "    imputer = SimpleImputer(strategy='most_frequent')\n",
                "    imputer.fit(x_train)\n",
                "    x_train = pd.DataFrame(imputer.transform(x_train), columns=x_train.columns)\n",
                "    x_test = pd.DataFrame(imputer.transform(x_test), columns=x_test.columns)\n",
                "\n",
                "    # one-hot-encode categorical features\n",
                "    def ohe_new_features(df, features_name, encoder):\n",
                "        new_feats = encoder.transform(df[features_name])\n",
                "        # create dataframe from encoded features with named columns\n",
                "        new_cols = pd.DataFrame(new_feats, dtype=int, columns=encoder.get_feature_names_out(features_name))\n",
                "        new_df = pd.concat([df, new_cols], axis=1)    \n",
                "        new_df.drop(features_name, axis=1, inplace=True)\n",
                "        return new_df\n",
                "\n",
                "    encoder = OneHotEncoder(sparse=False, drop='first')\n",
                "    f_names = ['sex', 'embarked']\n",
                "    encoder.fit(x_train[f_names])\n",
                "    x_train = ohe_new_features(x_train, f_names, encoder)\n",
                "    x_test = ohe_new_features(x_test, f_names, encoder)\n",
                "\n",
                "    # feature scaling\n",
                "    scaler = MinMaxScaler()\n",
                "    scaler.fit(x_train)\n",
                "    x_train = pd.DataFrame(scaler.transform(x_train), columns=x_train.columns)\n",
                "    x_test = pd.DataFrame(scaler.transform(x_test), columns=x_test.columns)\n",
                "\n",
                "    return [x_train, y_train, x_test, y_test]"
            ]
        },
        {
            "cell_type": "code",
            "execution_count": 5,
            "metadata": {},
            "outputs": [
                {
                    "data": {
                        "text/html": [
                            "<div>\n",
                            "<style scoped>\n",
                            "    .dataframe tbody tr th:only-of-type {\n",
                            "        vertical-align: middle;\n",
                            "    }\n",
                            "\n",
                            "    .dataframe tbody tr th {\n",
                            "        vertical-align: top;\n",
                            "    }\n",
                            "\n",
                            "    .dataframe thead th {\n",
                            "        text-align: right;\n",
                            "    }\n",
                            "</style>\n",
                            "<table border=\"1\" class=\"dataframe\">\n",
                            "  <thead>\n",
                            "    <tr style=\"text-align: right;\">\n",
                            "      <th></th>\n",
                            "      <th>pclass</th>\n",
                            "      <th>age</th>\n",
                            "      <th>sibsp</th>\n",
                            "      <th>parch</th>\n",
                            "      <th>fare</th>\n",
                            "      <th>sex_male</th>\n",
                            "      <th>embarked_Q</th>\n",
                            "      <th>embarked_S</th>\n",
                            "    </tr>\n",
                            "  </thead>\n",
                            "  <tbody>\n",
                            "    <tr>\n",
                            "      <th>0</th>\n",
                            "      <td>0.0</td>\n",
                            "      <td>0.159031</td>\n",
                            "      <td>0.250</td>\n",
                            "      <td>0.222222</td>\n",
                            "      <td>0.512122</td>\n",
                            "      <td>1.0</td>\n",
                            "      <td>0.0</td>\n",
                            "      <td>0.0</td>\n",
                            "    </tr>\n",
                            "    <tr>\n",
                            "      <th>1</th>\n",
                            "      <td>1.0</td>\n",
                            "      <td>0.008410</td>\n",
                            "      <td>0.625</td>\n",
                            "      <td>0.222222</td>\n",
                            "      <td>0.091543</td>\n",
                            "      <td>1.0</td>\n",
                            "      <td>0.0</td>\n",
                            "      <td>1.0</td>\n",
                            "    </tr>\n",
                            "    <tr>\n",
                            "      <th>2</th>\n",
                            "      <td>1.0</td>\n",
                            "      <td>0.297101</td>\n",
                            "      <td>0.000</td>\n",
                            "      <td>0.000000</td>\n",
                            "      <td>0.015412</td>\n",
                            "      <td>1.0</td>\n",
                            "      <td>0.0</td>\n",
                            "      <td>1.0</td>\n",
                            "    </tr>\n",
                            "    <tr>\n",
                            "      <th>3</th>\n",
                            "      <td>0.0</td>\n",
                            "      <td>0.786620</td>\n",
                            "      <td>0.125</td>\n",
                            "      <td>0.000000</td>\n",
                            "      <td>0.152164</td>\n",
                            "      <td>0.0</td>\n",
                            "      <td>0.0</td>\n",
                            "      <td>1.0</td>\n",
                            "    </tr>\n",
                            "    <tr>\n",
                            "      <th>4</th>\n",
                            "      <td>0.0</td>\n",
                            "      <td>0.046065</td>\n",
                            "      <td>0.000</td>\n",
                            "      <td>0.222222</td>\n",
                            "      <td>0.159777</td>\n",
                            "      <td>1.0</td>\n",
                            "      <td>0.0</td>\n",
                            "      <td>1.0</td>\n",
                            "    </tr>\n",
                            "  </tbody>\n",
                            "</table>\n",
                            "</div>"
                        ],
                        "text/plain": [
                            "   pclass       age  sibsp     parch      fare  sex_male  embarked_Q  \\\n",
                            "0     0.0  0.159031  0.250  0.222222  0.512122       1.0         0.0   \n",
                            "1     1.0  0.008410  0.625  0.222222  0.091543       1.0         0.0   \n",
                            "2     1.0  0.297101  0.000  0.000000  0.015412       1.0         0.0   \n",
                            "3     0.0  0.786620  0.125  0.000000  0.152164       0.0         0.0   \n",
                            "4     0.0  0.046065  0.000  0.222222  0.159777       1.0         0.0   \n",
                            "\n",
                            "   embarked_S  \n",
                            "0         0.0  \n",
                            "1         1.0  \n",
                            "2         1.0  \n",
                            "3         1.0  \n",
                            "4         1.0  "
                        ]
                    },
                    "execution_count": 5,
                    "metadata": {},
                    "output_type": "execute_result"
                }
            ],
            "source": [
                "preprocess(titanic)[0].head()"
            ]
        },
        {
            "cell_type": "markdown",
            "metadata": {},
            "source": [
                "## 2. Impact of class imballance. \n",
                "##### Now, you will `artificially` imbalance the dataset. From the original dataset, create different dataset with the following class representations (drop samples from one class): \n",
                "##### 1. 20% vs 80%\n",
                "##### 2. 30% vs 70%\n",
                "##### 3. 40% vs 60%\n",
                "\n",
                "## Split each data into train and test set as in the lab; train logistic regression model for each setting and report (PLOT) the accuracy, precision, and recall of each model"
            ]
        },
        {
            "cell_type": "code",
            "execution_count": 6,
            "metadata": {},
            "outputs": [],
            "source": [
                "def get_ratio(num_total, num_survived, des_ratio):\n",
                "    return int((num_total * des_ratio - num_survived) / (des_ratio - 1))"
            ]
        },
        {
            "cell_type": "code",
            "execution_count": 11,
            "metadata": {},
            "outputs": [
                {
                    "name": "stdout",
                    "output_type": "stream",
                    "text": [
                        "0.20059288537549408\n",
                        "0.30017301038062283\n",
                        "0.3937007874015748\n"
                    ]
                },
                {
                    "data": {
                        "image/png": "[encoded data removed]",
                        "text/plain": [
                            "<Figure size 720x288 with 3 Axes>"
                        ]
                    },
                    "metadata": {
                        "needs_background": "light"
                    },
                    "output_type": "display_data"
                }
            ],
            "source": [
                "\n",
                "survived_ind = list(titanic[titanic.survived == 1].index)\n",
                "not_survived_ind = list(titanic[titanic.survived == 0].index)\n",
                "\n",
                "random.shuffle(survived_ind)\n",
                "random.shuffle(not_survived_ind)\n",
                "\n",
                "dataset1 = titanic.drop(index=survived_ind[0:get_ratio(len(titanic), len(survived_ind), 0.2)])\n",
                "dataset2 = titanic.drop(index=survived_ind[0:get_ratio(len(titanic), len(survived_ind), 0.3)])\n",
                "dataset3 = titanic.drop(index=not_survived_ind[0:-get_ratio(len(titanic), len(survived_ind), 0.4)])\n",
                "\n",
                "print(dataset1[dataset1.survived == 1].size / dataset1.size)\n",
                "print(dataset2[dataset2.survived == 1].size / dataset2.size)\n",
                "print(dataset3[dataset3.survived == 1].size / dataset3.size)\n",
                "\n",
                "fig, ax = plt.subplots(1, 3)\n",
                "\n",
                "fig.set_figwidth(10)\n",
                "\n",
                "dataset1.survived.hist(ax = ax[0], label='20% survived')\n",
                "dataset2.survived.hist(ax = ax[1], label='30% survived')\n",
                "dataset3.survived.hist(ax = ax[2], label='40% survived')\n",
                "\n",
                "ax[0].legend()\n",
                "ax[1].legend()\n",
                "ax[2].legend()\n",
                "\n",
                "plt.show()"
            ]
        },
        {
            "cell_type": "code",
            "execution_count": 12,
            "metadata": {},
            "outputs": [],
            "source": [
                "### write your code here \n",
                "\n",
                "datasets = [dataset1, dataset2, dataset3]\n",
                "models = []\n",
                "results = []"
            ]
        },
        {
            "cell_type": "code",
            "execution_count": 13,
            "metadata": {},
            "outputs": [],
            "source": [
                "for dataset in datasets:\n",
                "    x_train, y_train, x_test, y_test = preprocess(dataset)\n",
                "    \n",
                "    model = LogisticRegression()\n",
                "    model.fit(x_train, y_train)\n",
                "    models.append(model)\n",
                "\n",
                "    y_pred = model.predict(x_test)\n",
                "    results.append({'accuracy': metrics.accuracy_score(y_test, y_pred),\n",
                "                    'precision': metrics.precision_score(y_test, y_pred),\n",
                "                    'recall': metrics.recall_score(y_test, y_pred)})"
            ]
        },
        {
            "cell_type": "code",
            "execution_count": 14,
            "metadata": {},
            "outputs": [
                {
                    "data": {
                        "image/png": "[encoded data removed]",
                        "text/plain": [
                            "<Figure size 432x288 with 1 Axes>"
                        ]
                    },
                    "metadata": {
                        "needs_background": "light"
                    },
                    "output_type": "display_data"
                }
            ],
            "source": [
                "fig = plt.subplot()\n",
                "\n",
                "plt.plot(range(len(models)), [res['accuracy'] for res in results], color='blue', marker='o', label='accuracy')\n",
                "plt.plot(range(len(models)), [res['precision'] for res in results], color='red', marker='o', label='precision')\n",
                "plt.plot(range(len(models)), [res['recall'] for res in results], color='green', marker='o', label='recall')\n",
                "\n",
                "plt.legend()\n",
                "plt.show()"
            ]
        },
        {
            "cell_type": "markdown",
            "metadata": {},
            "source": [
                "## 3. Analyse the class-wise accuracy. \n",
                "#### For each model, plot (bar plots) the class-wise accuracy, i.e., the accuracy for each class."
            ]
        },
        {
            "cell_type": "code",
            "execution_count": 15,
            "metadata": {},
            "outputs": [
                {
                    "name": "stdout",
                    "output_type": "stream",
                    "text": [
                        "[[159   3]\n",
                        " [ 24  17]]\n",
                        "[[143  19]\n",
                        " [ 24  46]]\n",
                        "[[130  24]\n",
                        " [ 32  68]]\n"
                    ]
                },
                {
                    "data": {
                        "image/png": "[encoded data removed]",
                        "text/plain": [
                            "<Figure size 432x288 with 2 Axes>"
                        ]
                    },
                    "metadata": {
                        "needs_background": "light"
                    },
                    "output_type": "display_data"
                },
                {
                    "data": {
                        "image/png": "[encoded data removed]",
                        "text/plain": [
                            "<Figure size 432x288 with 2 Axes>"
                        ]
                    },
                    "metadata": {
                        "needs_background": "light"
                    },
                    "output_type": "display_data"
                },
                {
                    "data": {
                        "image/png": "[encoded data removed]",
                        "text/plain": [
                            "<Figure size 432x288 with 2 Axes>"
                        ]
                    },
                    "metadata": {
                        "needs_background": "light"
                    },
                    "output_type": "display_data"
                }
            ],
            "source": [
                "#### write your code\n",
                "for dataset in datasets:\n",
                "    x_train, y_train, x_test, y_test = preprocess(dataset)\n",
                "\n",
                "    model = LogisticRegression().fit(x_train, y_train)\n",
                "\n",
                "    disp = ConfusionMatrixDisplay.from_estimator(\n",
                "        model,\n",
                "        x_test,\n",
                "        y_test,\n",
                "        cmap=plt.cm.Blues,\n",
                "    )\n",
                "\n",
                "    print(disp.confusion_matrix)"
            ]
        },
        {
            "cell_type": "markdown",
            "metadata": {},
            "source": [
                "## 4. Report \n",
                "### Write a small report (few sentences) to discuss from your analysis, the impact of class imballance on logistic model's performance "
            ]
        },
        {
            "cell_type": "markdown",
            "metadata": {},
            "source": [
                "`Even though accuracy of the model has degraded in general, it is easy to see the result of balancing the dataset. Increasing the percentage of the smallest class, we have significantly improved precision of our prediction and as a result, successfully managed to improve the prediction of survival. While the number of wrong predictions did not change much, number of successfull predictions of the class 1 has significantly improved.`"
            ]
        },
        {
            "cell_type": "markdown",
            "metadata": {},
            "source": []
        }
    ],
    "metadata": {
        "kernelspec": {
            "display_name": "Python 3.9.12 ('base')",
            "language": "python",
            "name": "python3"
        },
        "language_info": {
            "codemirror_mode": {
                "name": "ipython",
                "version": 3
            },
            "file_extension": ".py",
            "mimetype": "text/x-python",
            "name": "python",
            "nbconvert_exporter": "python",
            "pygments_lexer": "ipython3",
            "version": "3.9.12"
        },
        "orig_nbformat": 4,
        "vscode": {
            "interpreter": {
                "hash": "690fcc030dbde6f3f652c519b06a0d95da528e66105ed58c88e506e5818277cb"
            }
        }
    },
    "nbformat": 4,
    "nbformat_minor": 2
}
