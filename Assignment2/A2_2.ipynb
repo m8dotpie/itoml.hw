{
  "cells": [
    {
      "cell_type": "code",
      "execution_count": 1,
      "metadata": {
        "id": "PAwTtXGKXfK6"
      },
      "outputs": [],
      "source": [
        "%%capture\n",
        "%pip install tensorboard\n",
        "%pip install pytorch\n",
        "%pip install torchvision\n",
        "%pip install category_encoders"
      ]
    },
    {
      "cell_type": "code",
      "execution_count": 2,
      "metadata": {
        "id": "tEnGU8bpXn6n"
      },
      "outputs": [],
      "source": [
        "import pandas as pd\n",
        "import torch\n",
        "import torch.nn as nn\n",
        "from torch.utils import data\n",
        "\n",
        "from torch.utils.data import DataLoader\n",
        "import torch.nn.functional as F\n",
        "from torch.autograd import Variable\n",
        "import pandas as pd\n",
        "from sklearn.model_selection import train_test_split\n",
        "from sklearn.metrics import mean_squared_error\n",
        "import numpy as np\n",
        "\n",
        "# sklearn classes\n",
        "from sklearn import metrics\n",
        "from sklearn.pipeline import Pipeline\n",
        "from sklearn.decomposition import PCA\n",
        "from sklearn.compose import ColumnTransformer\n",
        "from sklearn.preprocessing import StandardScaler\n",
        "\n",
        "# sklearn utils\n",
        "from sklearn.model_selection import cross_val_score\n",
        "from sklearn.model_selection import train_test_split\n",
        "\n",
        "# Encoders\n",
        "from category_encoders import OrdinalEncoder, OneHotEncoder\n",
        "%load_ext tensorboard\n",
        "\n",
        "from torchvision import datasets, models, transforms\n",
        "import torchvision\n",
        "import matplotlib.pyplot as plt\n",
        "import torch.optim as optim\n",
        "from torch.optim import lr_scheduler\n",
        "from torch.utils.tensorboard import SummaryWriter\n",
        "import time\n",
        "import os\n",
        "import copy"
      ]
    },
    {
      "cell_type": "markdown",
      "metadata": {
        "id": "vegobZrXYHof"
      },
      "source": [
        "# Preprocessing and augmenting"
      ]
    },
    {
      "cell_type": "code",
      "execution_count": 3,
      "metadata": {
        "id": "NxlsqcTfYBoW"
      },
      "outputs": [],
      "source": [
        "chan_num = 3\n",
        "\n",
        "train_transform = transforms.Compose([\n",
        "    transforms.ToTensor(), \n",
        "    transforms.Grayscale(chan_num),\n",
        "    transforms.Normalize((0.5,), (0.3,))\n",
        "  ])\n",
        "test_transform = transforms.Compose([transforms.ToTensor(), transforms.Grayscale(chan_num), transforms.Normalize((0.5,), (0.3,))])\n",
        "val_transform = transforms.Compose([transforms.ToTensor(), transforms.Grayscale(chan_num), transforms.Normalize((0.5,), (0.3,)),])\n",
        "\n",
        "test_dataset = datasets.ImageFolder(root='triple_mnist/test', transform=train_transform)\n",
        "train_dataset = datasets.ImageFolder(root='triple_mnist/train', transform=train_transform)\n",
        "val_dataset = datasets.ImageFolder(root='triple_mnist/val', transform=val_transform)"
      ]
    },
    {
      "cell_type": "code",
      "execution_count": 4,
      "metadata": {
        "id": "PHA7DccHYjHN"
      },
      "outputs": [],
      "source": [
        "batch_size = 128\n",
        "\n",
        "test_loader = DataLoader(test_dataset, batch_size=batch_size, shuffle=True)\n",
        "train_loader = DataLoader(train_dataset, batch_size=batch_size, shuffle=True)\n",
        "val_loader = DataLoader(val_dataset, batch_size=batch_size, shuffle=True)"
      ]
    },
    {
      "cell_type": "code",
      "execution_count": 5,
      "metadata": {
        "id": "vyx3rFlXYmuL"
      },
      "outputs": [],
      "source": [
        "dataloaders = {'train': train_loader, 'val': val_loader, 'test': test_loader}\n",
        "dataset_sizes = {'train': len(train_dataset), 'val': len(val_dataset), 'test': len(test_dataset)}\n",
        "image_datasets = {'train': train_dataset, 'val': val_dataset, 'test': test_dataset}"
      ]
    },
    {
      "cell_type": "code",
      "execution_count": 6,
      "metadata": {
        "colab": {
          "base_uri": "https://localhost:8080/",
          "height": 107
        },
        "id": "CBIsaRyfYoz5",
        "outputId": "0ce2df13-fea4-41cf-c675-20cfa7d428e2"
      },
      "outputs": [
        {
          "data": {
            "image/png": "[encoded data removed]",
            "text/plain": [
              "<Figure size 432x288 with 1 Axes>"
            ]
          },
          "metadata": {
            "needs_background": "light"
          },
          "output_type": "display_data"
        }
      ],
      "source": [
        "def imshow(inp, title=None):\n",
        "    \"\"\"Imshow for Tensor.\"\"\"\n",
        "    inp = inp.numpy().transpose((1, 2, 0))\n",
        "    mean = np.array([0.5,])\n",
        "    std = np.array([0.3,])\n",
        "    inp = std * inp + mean\n",
        "    inp = np.clip(inp, 0, 1)\n",
        "    plt.imshow(inp)\n",
        "    if title is not None:\n",
        "        plt.title(title)\n",
        "    plt.pause(0.001)  # pause a bit so that plots are updated\n",
        "\n",
        "class_names = image_datasets['test'].classes\n",
        "# Get a batch of training data\n",
        "inputs, classes = next(iter(dataloaders['test']))\n",
        "\n",
        "# Make a grid from batch\n",
        "out = torchvision.utils.make_grid(inputs[0:8])\n",
        "\n",
        "imshow(out,title=[class_names[x] for x in classes][0:8])"
      ]
    },
    {
      "cell_type": "markdown",
      "metadata": {
        "id": "VhFYaZ4fYKHR"
      },
      "source": [
        "# Model itself"
      ]
    },
    {
      "cell_type": "code",
      "execution_count": 7,
      "metadata": {
        "id": "quPP1Ir9vBU5"
      },
      "outputs": [],
      "source": [
        "class MultiClassifier(nn.Module):\n",
        "  def __init__(self):\n",
        "    super(MultiClassifier, self).__init__()\n",
        "    self.ConvLayer1 = nn.Sequential(\n",
        "    nn.Conv2d(3, 84, 3), # 3, 256, 256\n",
        "    nn.MaxPool2d(2), # op: 16, 127, 127\n",
        "    nn.ReLU(), # op: 64, 127, 127\n",
        "    )\n",
        "    self.ConvLayer2 = nn.Sequential(\n",
        "    nn.Conv2d(84, 128, 3), # 64, 127, 127\n",
        "    nn.MaxPool2d(2), #op: 128, 63, 63\n",
        "    nn.ReLU() # op: 128, 63, 63\n",
        "    )\n",
        "    self.ConvLayer3 = nn.Sequential(\n",
        "    nn.Conv2d(128, 256, 3), # 128, 63, 63\n",
        "    nn.MaxPool2d(2), #op: 256, 30, 30\n",
        "    nn.ReLU() #op: 256, 30, 30\n",
        "    )\n",
        "    self.ConvLayer4 = nn.Sequential(\n",
        "    nn.Conv2d(256, 512, 3), # 256, 30, 30\n",
        "    nn.MaxPool2d(2), #op: 512, 3, 3\n",
        "    nn.ReLU(), #op: 512, 3, 3\n",
        "    nn.Dropout(0.2)\n",
        "    )\n",
        "    self.Linear1 = nn.Linear(512 * 3 * 3, 1024)\n",
        "    self.Linear2 = nn.Linear(1024, 256)\n",
        "    self.Linear3 = nn.Linear(256, 30)\n",
        "    self.act = nn.Sigmoid()\n",
        "  def forward(self, x):\n",
        "    x = self.ConvLayer1(x)\n",
        "    x = self.ConvLayer2(x)\n",
        "    x = self.ConvLayer3(x)\n",
        "    x = self.ConvLayer4(x)\n",
        "    x = x.view(x.size(0), -1)\n",
        "    x = self.Linear1(x)\n",
        "    x = self.Linear2(x)\n",
        "    x = self.Linear3(x)\n",
        "    return self.act(x)"
      ]
    },
    {
      "cell_type": "code",
      "execution_count": 8,
      "metadata": {
        "id": "z2HfGA-kqZcS"
      },
      "outputs": [],
      "source": [
        "def ml_split(num):\n",
        "  res = [0] * 30\n",
        "  res[int(num[0])] = 1\n",
        "  res[int(num[1]) + 10] = 1\n",
        "  res[int(num[2]) + 20] = 1\n",
        "  return res"
      ]
    },
    {
      "cell_type": "code",
      "execution_count": 9,
      "metadata": {
        "id": "FGFZyn6d9g1F"
      },
      "outputs": [],
      "source": [
        "def hot_to_ind(tens):\n",
        "  _, preds = torch.max(tens[0].view(-1, 10), dim=1)\n",
        "  for i in range(1, len(tens)):\n",
        "    _, pred1 = torch.max(tens[i].view(-1, 10), dim=1)\n",
        "    preds = torch.cat((preds, pred1))\n",
        "  preds = preds.view(-1, 3)\n",
        "  return preds"
      ]
    },
    {
      "cell_type": "code",
      "execution_count": 10,
      "metadata": {
        "id": "xrpURXSHYL8W"
      },
      "outputs": [],
      "source": [
        "def train_model(model, criterion, optimizer, scheduler, num_epochs=25):\n",
        "    since = time.time()\n",
        "\n",
        "    best_model_wts = copy.deepcopy(model.state_dict())\n",
        "    best_acc = 0.0\n",
        "\n",
        "    for epoch in range(1, num_epochs + 1):\n",
        "        print(f'Epoch {epoch}/{num_epochs}')\n",
        "        print('-' * 10)\n",
        "\n",
        "        # Each epoch has a training and validation phase\n",
        "        for phase in ['train', 'val']:\n",
        "            if phase == 'train':\n",
        "                model.train()  # Set model to training mode\n",
        "            else:\n",
        "                model.eval()   # Set model to evaluate mode\n",
        "\n",
        "            running_loss = 0.0\n",
        "            running_total_corrects = 0\n",
        "            running_any_corrects = 0\n",
        "\n",
        "            # Iterate over data.\n",
        "            num_steps = 0\n",
        "            print(len(dataloaders[phase]))\n",
        "            for inputs, labels in dataloaders[phase]:\n",
        "                num_steps += 1\n",
        "                inputs = inputs.to(device)\n",
        "                labels = labels.to(device)\n",
        "\n",
        "                # zero the parameter gradients\n",
        "                optimizer.zero_grad()\n",
        "\n",
        "                # forward\n",
        "                # track history if only in train\n",
        "                with torch.set_grad_enabled(phase == 'train'):\n",
        "                    outputs = model(inputs)\n",
        "                    preds = hot_to_ind(outputs)\n",
        "                    target = torch.from_numpy(np.array([ml_split(image_datasets[phase].classes[label]) for label in labels])).to(device)\n",
        "                    target = target.type(torch.FloatTensor).to(device)\n",
        "                    loss = criterion(outputs, target)\n",
        "\n",
        "                    # backward + optimize only if in training phase\n",
        "                    if phase == 'train':\n",
        "                        loss.backward()\n",
        "                        optimizer.step()\n",
        "                ind_target = hot_to_ind(target)\n",
        "                # statistics\n",
        "                running_loss += loss.item() * inputs.size(0)\n",
        "                running_any_corrects += torch.sum(preds == ind_target)\n",
        "                for i in range(len(ind_target)):\n",
        "                  running_total_corrects += torch.equal(preds[i], ind_target[i])\n",
        "                  \n",
        "            if phase == 'train':\n",
        "                scheduler.step()\n",
        "\n",
        "            epoch_loss = running_loss / dataset_sizes[phase]\n",
        "            epoch_total_acc = float(running_total_corrects) / dataset_sizes[phase]\n",
        "            epoch_any_acc = running_any_corrects.double() / (3 * dataset_sizes[phase])\n",
        "\n",
        "            print(f'{phase} \\nLoss: {epoch_loss:.4f} Any Acc: {epoch_any_acc:.4f} Total Acc: {epoch_total_acc:.4f}')\n",
        "\n",
        "            # deep copy the model\n",
        "            if phase == 'val' and epoch_total_acc > best_acc:\n",
        "                best_acc = epoch_total_acc\n",
        "                best_model_wts = copy.deepcopy(model.state_dict())\n",
        "\n",
        "        print()\n",
        "\n",
        "    time_elapsed = time.time() - since\n",
        "    print(f'Training complete in {time_elapsed // 60:.0f}m {time_elapsed % 60:.0f}s')\n",
        "    print(f'Best val Acc: {best_acc:4f}')\n",
        "\n",
        "    # load best model weights\n",
        "    model.load_state_dict(best_model_wts)\n",
        "    return model"
      ]
    },
    {
      "cell_type": "code",
      "execution_count": 19,
      "metadata": {
        "id": "cU5yk8DWZrk-"
      },
      "outputs": [
        {
          "name": "stdout",
          "output_type": "stream",
          "text": [
            "cuda\n"
          ]
        },
        {
          "ename": "RuntimeError",
          "evalue": "CUDA error: an illegal memory access was encountered\nCUDA kernel errors might be asynchronously reported at some other API call,so the stacktrace below might be incorrect.\nFor debugging consider passing CUDA_LAUNCH_BLOCKING=1.",
          "output_type": "error",
          "traceback": [
            "\u001b[1;31m---------------------------------------------------------------------------\u001b[0m",
            "\u001b[1;31mRuntimeError\u001b[0m                              Traceback (most recent call last)",
            "\u001b[1;32md:\\Work\\itoml.hw\\Assignment2\\A2_2.ipynb Ячейка 13\u001b[0m in \u001b[0;36m<cell line: 15>\u001b[1;34m()\u001b[0m\n\u001b[0;32m     <a href='vscode-notebook-cell:/d%3A/Work/itoml.hw/Assignment2/A2_2.ipynb#X20sZmlsZQ%3D%3D?line=10'>11</a>\u001b[0m \u001b[39mprint\u001b[39m(device)\n\u001b[0;32m     <a href='vscode-notebook-cell:/d%3A/Work/itoml.hw/Assignment2/A2_2.ipynb#X20sZmlsZQ%3D%3D?line=12'>13</a>\u001b[0m model_ft \u001b[39m=\u001b[39m MultiClassifier()\n\u001b[1;32m---> <a href='vscode-notebook-cell:/d%3A/Work/itoml.hw/Assignment2/A2_2.ipynb#X20sZmlsZQ%3D%3D?line=14'>15</a>\u001b[0m model_ft \u001b[39m=\u001b[39m model_ft\u001b[39m.\u001b[39;49mto(device)\n\u001b[0;32m     <a href='vscode-notebook-cell:/d%3A/Work/itoml.hw/Assignment2/A2_2.ipynb#X20sZmlsZQ%3D%3D?line=16'>17</a>\u001b[0m criterion \u001b[39m=\u001b[39m nn\u001b[39m.\u001b[39mBCELoss()\n\u001b[0;32m     <a href='vscode-notebook-cell:/d%3A/Work/itoml.hw/Assignment2/A2_2.ipynb#X20sZmlsZQ%3D%3D?line=18'>19</a>\u001b[0m \u001b[39m# Observe that all parameters are being optimized\u001b[39;00m\n",
            "File \u001b[1;32md:\\Programs\\Anaconda\\lib\\site-packages\\torch\\nn\\modules\\module.py:987\u001b[0m, in \u001b[0;36mModule.to\u001b[1;34m(self, *args, **kwargs)\u001b[0m\n\u001b[0;32m    983\u001b[0m         \u001b[39mreturn\u001b[39;00m t\u001b[39m.\u001b[39mto(device, dtype \u001b[39mif\u001b[39;00m t\u001b[39m.\u001b[39mis_floating_point() \u001b[39mor\u001b[39;00m t\u001b[39m.\u001b[39mis_complex() \u001b[39melse\u001b[39;00m \u001b[39mNone\u001b[39;00m,\n\u001b[0;32m    984\u001b[0m                     non_blocking, memory_format\u001b[39m=\u001b[39mconvert_to_format)\n\u001b[0;32m    985\u001b[0m     \u001b[39mreturn\u001b[39;00m t\u001b[39m.\u001b[39mto(device, dtype \u001b[39mif\u001b[39;00m t\u001b[39m.\u001b[39mis_floating_point() \u001b[39mor\u001b[39;00m t\u001b[39m.\u001b[39mis_complex() \u001b[39melse\u001b[39;00m \u001b[39mNone\u001b[39;00m, non_blocking)\n\u001b[1;32m--> 987\u001b[0m \u001b[39mreturn\u001b[39;00m \u001b[39mself\u001b[39;49m\u001b[39m.\u001b[39;49m_apply(convert)\n",
            "File \u001b[1;32md:\\Programs\\Anaconda\\lib\\site-packages\\torch\\nn\\modules\\module.py:639\u001b[0m, in \u001b[0;36mModule._apply\u001b[1;34m(self, fn)\u001b[0m\n\u001b[0;32m    637\u001b[0m \u001b[39mdef\u001b[39;00m \u001b[39m_apply\u001b[39m(\u001b[39mself\u001b[39m, fn):\n\u001b[0;32m    638\u001b[0m     \u001b[39mfor\u001b[39;00m module \u001b[39min\u001b[39;00m \u001b[39mself\u001b[39m\u001b[39m.\u001b[39mchildren():\n\u001b[1;32m--> 639\u001b[0m         module\u001b[39m.\u001b[39;49m_apply(fn)\n\u001b[0;32m    641\u001b[0m     \u001b[39mdef\u001b[39;00m \u001b[39mcompute_should_use_set_data\u001b[39m(tensor, tensor_applied):\n\u001b[0;32m    642\u001b[0m         \u001b[39mif\u001b[39;00m torch\u001b[39m.\u001b[39m_has_compatible_shallow_copy_type(tensor, tensor_applied):\n\u001b[0;32m    643\u001b[0m             \u001b[39m# If the new tensor has compatible tensor type as the existing tensor,\u001b[39;00m\n\u001b[0;32m    644\u001b[0m             \u001b[39m# the current behavior is to change the tensor in-place using `.data =`,\u001b[39;00m\n\u001b[1;32m   (...)\u001b[0m\n\u001b[0;32m    649\u001b[0m             \u001b[39m# global flag to let the user control whether they want the future\u001b[39;00m\n\u001b[0;32m    650\u001b[0m             \u001b[39m# behavior of overwriting the existing tensor or not.\u001b[39;00m\n",
            "File \u001b[1;32md:\\Programs\\Anaconda\\lib\\site-packages\\torch\\nn\\modules\\module.py:639\u001b[0m, in \u001b[0;36mModule._apply\u001b[1;34m(self, fn)\u001b[0m\n\u001b[0;32m    637\u001b[0m \u001b[39mdef\u001b[39;00m \u001b[39m_apply\u001b[39m(\u001b[39mself\u001b[39m, fn):\n\u001b[0;32m    638\u001b[0m     \u001b[39mfor\u001b[39;00m module \u001b[39min\u001b[39;00m \u001b[39mself\u001b[39m\u001b[39m.\u001b[39mchildren():\n\u001b[1;32m--> 639\u001b[0m         module\u001b[39m.\u001b[39;49m_apply(fn)\n\u001b[0;32m    641\u001b[0m     \u001b[39mdef\u001b[39;00m \u001b[39mcompute_should_use_set_data\u001b[39m(tensor, tensor_applied):\n\u001b[0;32m    642\u001b[0m         \u001b[39mif\u001b[39;00m torch\u001b[39m.\u001b[39m_has_compatible_shallow_copy_type(tensor, tensor_applied):\n\u001b[0;32m    643\u001b[0m             \u001b[39m# If the new tensor has compatible tensor type as the existing tensor,\u001b[39;00m\n\u001b[0;32m    644\u001b[0m             \u001b[39m# the current behavior is to change the tensor in-place using `.data =`,\u001b[39;00m\n\u001b[1;32m   (...)\u001b[0m\n\u001b[0;32m    649\u001b[0m             \u001b[39m# global flag to let the user control whether they want the future\u001b[39;00m\n\u001b[0;32m    650\u001b[0m             \u001b[39m# behavior of overwriting the existing tensor or not.\u001b[39;00m\n",
            "File \u001b[1;32md:\\Programs\\Anaconda\\lib\\site-packages\\torch\\nn\\modules\\module.py:662\u001b[0m, in \u001b[0;36mModule._apply\u001b[1;34m(self, fn)\u001b[0m\n\u001b[0;32m    658\u001b[0m \u001b[39m# Tensors stored in modules are graph leaves, and we don't want to\u001b[39;00m\n\u001b[0;32m    659\u001b[0m \u001b[39m# track autograd history of `param_applied`, so we have to use\u001b[39;00m\n\u001b[0;32m    660\u001b[0m \u001b[39m# `with torch.no_grad():`\u001b[39;00m\n\u001b[0;32m    661\u001b[0m \u001b[39mwith\u001b[39;00m torch\u001b[39m.\u001b[39mno_grad():\n\u001b[1;32m--> 662\u001b[0m     param_applied \u001b[39m=\u001b[39m fn(param)\n\u001b[0;32m    663\u001b[0m should_use_set_data \u001b[39m=\u001b[39m compute_should_use_set_data(param, param_applied)\n\u001b[0;32m    664\u001b[0m \u001b[39mif\u001b[39;00m should_use_set_data:\n",
            "File \u001b[1;32md:\\Programs\\Anaconda\\lib\\site-packages\\torch\\nn\\modules\\module.py:985\u001b[0m, in \u001b[0;36mModule.to.<locals>.convert\u001b[1;34m(t)\u001b[0m\n\u001b[0;32m    982\u001b[0m \u001b[39mif\u001b[39;00m convert_to_format \u001b[39mis\u001b[39;00m \u001b[39mnot\u001b[39;00m \u001b[39mNone\u001b[39;00m \u001b[39mand\u001b[39;00m t\u001b[39m.\u001b[39mdim() \u001b[39min\u001b[39;00m (\u001b[39m4\u001b[39m, \u001b[39m5\u001b[39m):\n\u001b[0;32m    983\u001b[0m     \u001b[39mreturn\u001b[39;00m t\u001b[39m.\u001b[39mto(device, dtype \u001b[39mif\u001b[39;00m t\u001b[39m.\u001b[39mis_floating_point() \u001b[39mor\u001b[39;00m t\u001b[39m.\u001b[39mis_complex() \u001b[39melse\u001b[39;00m \u001b[39mNone\u001b[39;00m,\n\u001b[0;32m    984\u001b[0m                 non_blocking, memory_format\u001b[39m=\u001b[39mconvert_to_format)\n\u001b[1;32m--> 985\u001b[0m \u001b[39mreturn\u001b[39;00m t\u001b[39m.\u001b[39;49mto(device, dtype \u001b[39mif\u001b[39;49;00m t\u001b[39m.\u001b[39;49mis_floating_point() \u001b[39mor\u001b[39;49;00m t\u001b[39m.\u001b[39;49mis_complex() \u001b[39melse\u001b[39;49;00m \u001b[39mNone\u001b[39;49;00m, non_blocking)\n",
            "\u001b[1;31mRuntimeError\u001b[0m: CUDA error: an illegal memory access was encountered\nCUDA kernel errors might be asynchronously reported at some other API call,so the stacktrace below might be incorrect.\nFor debugging consider passing CUDA_LAUNCH_BLOCKING=1."
          ]
        }
      ],
      "source": [
        "\n",
        "\n",
        "from torchvision import models\n",
        "from torch.optim import lr_scheduler\n",
        "import torch.optim as optim\n",
        "import torch.nn as nn\n",
        "import time\n",
        "import os\n",
        "import copy\n",
        "\n",
        "use_cuda = torch.cuda.is_available()\n",
        "device = torch.device(\"cuda\" if use_cuda else \"cpu\")\n",
        "print(device)\n",
        "\n",
        "model_ft = MultiClassifier()\n",
        "\n",
        "model_ft = model_ft.to(device)\n",
        "\n",
        "criterion = nn.BCELoss()\n",
        "\n",
        "# Observe that all parameters are being optimized\n",
        "optimizer_ft = optim.NAdam(model_ft.parameters(), lr=0.001, momentum_decay=0.5)\n",
        "\n",
        "# Decay LR by a factor of 0.1 every 7 epochs\n",
        "exp_lr_scheduler = lr_scheduler.StepLR(optimizer_ft, step_size=7, gamma=0.1)"
      ]
    },
    {
      "cell_type": "code",
      "execution_count": 18,
      "metadata": {
        "colab": {
          "base_uri": "https://localhost:8080/",
          "height": 1000
        },
        "id": "J0TXIAT2ZtUS",
        "outputId": "b930797a-5909-46df-9557-5bc72e96ac71"
      },
      "outputs": [
        {
          "ename": "RuntimeError",
          "evalue": "CUDA error: an illegal memory access was encountered\nCUDA kernel errors might be asynchronously reported at some other API call,so the stacktrace below might be incorrect.\nFor debugging consider passing CUDA_LAUNCH_BLOCKING=1.",
          "output_type": "error",
          "traceback": [
            "\u001b[1;31m---------------------------------------------------------------------------\u001b[0m",
            "\u001b[1;31mRuntimeError\u001b[0m                              Traceback (most recent call last)",
            "\u001b[1;32md:\\Work\\itoml.hw\\Assignment2\\A2_2.ipynb Ячейка 14\u001b[0m in \u001b[0;36m<cell line: 1>\u001b[1;34m()\u001b[0m\n\u001b[1;32m----> <a href='vscode-notebook-cell:/d%3A/Work/itoml.hw/Assignment2/A2_2.ipynb#X21sZmlsZQ%3D%3D?line=0'>1</a>\u001b[0m model_ft \u001b[39m=\u001b[39m train_model(model_ft, criterion, optimizer_ft, exp_lr_scheduler, num_epochs\u001b[39m=\u001b[39;49m\u001b[39m5\u001b[39;49m)\n\u001b[0;32m      <a href='vscode-notebook-cell:/d%3A/Work/itoml.hw/Assignment2/A2_2.ipynb#X21sZmlsZQ%3D%3D?line=1'>2</a>\u001b[0m model_ft\u001b[39m.\u001b[39msave(\u001b[39m'\u001b[39m\u001b[39mcnn97.pt\u001b[39m\u001b[39m'\u001b[39m)\n",
            "\u001b[1;32md:\\Work\\itoml.hw\\Assignment2\\A2_2.ipynb Ячейка 14\u001b[0m in \u001b[0;36mtrain_model\u001b[1;34m(model, criterion, optimizer, scheduler, num_epochs)\u001b[0m\n\u001b[0;32m      <a href='vscode-notebook-cell:/d%3A/Work/itoml.hw/Assignment2/A2_2.ipynb#X21sZmlsZQ%3D%3D?line=0'>1</a>\u001b[0m \u001b[39mdef\u001b[39;00m \u001b[39mtrain_model\u001b[39m(model, criterion, optimizer, scheduler, num_epochs\u001b[39m=\u001b[39m\u001b[39m25\u001b[39m):\n\u001b[0;32m      <a href='vscode-notebook-cell:/d%3A/Work/itoml.hw/Assignment2/A2_2.ipynb#X21sZmlsZQ%3D%3D?line=1'>2</a>\u001b[0m     since \u001b[39m=\u001b[39m time\u001b[39m.\u001b[39mtime()\n\u001b[1;32m----> <a href='vscode-notebook-cell:/d%3A/Work/itoml.hw/Assignment2/A2_2.ipynb#X21sZmlsZQ%3D%3D?line=3'>4</a>\u001b[0m     best_model_wts \u001b[39m=\u001b[39m copy\u001b[39m.\u001b[39;49mdeepcopy(model\u001b[39m.\u001b[39;49mstate_dict())\n\u001b[0;32m      <a href='vscode-notebook-cell:/d%3A/Work/itoml.hw/Assignment2/A2_2.ipynb#X21sZmlsZQ%3D%3D?line=4'>5</a>\u001b[0m     best_acc \u001b[39m=\u001b[39m \u001b[39m0.0\u001b[39m\n\u001b[0;32m      <a href='vscode-notebook-cell:/d%3A/Work/itoml.hw/Assignment2/A2_2.ipynb#X21sZmlsZQ%3D%3D?line=6'>7</a>\u001b[0m     \u001b[39mfor\u001b[39;00m epoch \u001b[39min\u001b[39;00m \u001b[39mrange\u001b[39m(\u001b[39m1\u001b[39m, num_epochs \u001b[39m+\u001b[39m \u001b[39m1\u001b[39m):\n",
            "File \u001b[1;32md:\\Programs\\Anaconda\\lib\\copy.py:172\u001b[0m, in \u001b[0;36mdeepcopy\u001b[1;34m(x, memo, _nil)\u001b[0m\n\u001b[0;32m    170\u001b[0m                 y \u001b[39m=\u001b[39m x\n\u001b[0;32m    171\u001b[0m             \u001b[39melse\u001b[39;00m:\n\u001b[1;32m--> 172\u001b[0m                 y \u001b[39m=\u001b[39m _reconstruct(x, memo, \u001b[39m*\u001b[39;49mrv)\n\u001b[0;32m    174\u001b[0m \u001b[39m# If is its own copy, don't memoize.\u001b[39;00m\n\u001b[0;32m    175\u001b[0m \u001b[39mif\u001b[39;00m y \u001b[39mis\u001b[39;00m \u001b[39mnot\u001b[39;00m x:\n",
            "File \u001b[1;32md:\\Programs\\Anaconda\\lib\\copy.py:296\u001b[0m, in \u001b[0;36m_reconstruct\u001b[1;34m(x, memo, func, args, state, listiter, dictiter, deepcopy)\u001b[0m\n\u001b[0;32m    294\u001b[0m     \u001b[39mfor\u001b[39;00m key, value \u001b[39min\u001b[39;00m dictiter:\n\u001b[0;32m    295\u001b[0m         key \u001b[39m=\u001b[39m deepcopy(key, memo)\n\u001b[1;32m--> 296\u001b[0m         value \u001b[39m=\u001b[39m deepcopy(value, memo)\n\u001b[0;32m    297\u001b[0m         y[key] \u001b[39m=\u001b[39m value\n\u001b[0;32m    298\u001b[0m \u001b[39melse\u001b[39;00m:\n",
            "File \u001b[1;32md:\\Programs\\Anaconda\\lib\\copy.py:153\u001b[0m, in \u001b[0;36mdeepcopy\u001b[1;34m(x, memo, _nil)\u001b[0m\n\u001b[0;32m    151\u001b[0m copier \u001b[39m=\u001b[39m \u001b[39mgetattr\u001b[39m(x, \u001b[39m\"\u001b[39m\u001b[39m__deepcopy__\u001b[39m\u001b[39m\"\u001b[39m, \u001b[39mNone\u001b[39;00m)\n\u001b[0;32m    152\u001b[0m \u001b[39mif\u001b[39;00m copier \u001b[39mis\u001b[39;00m \u001b[39mnot\u001b[39;00m \u001b[39mNone\u001b[39;00m:\n\u001b[1;32m--> 153\u001b[0m     y \u001b[39m=\u001b[39m copier(memo)\n\u001b[0;32m    154\u001b[0m \u001b[39melse\u001b[39;00m:\n\u001b[0;32m    155\u001b[0m     reductor \u001b[39m=\u001b[39m dispatch_table\u001b[39m.\u001b[39mget(\u001b[39mcls\u001b[39m)\n",
            "File \u001b[1;32md:\\Programs\\Anaconda\\lib\\site-packages\\torch\\_tensor.py:134\u001b[0m, in \u001b[0;36mTensor.__deepcopy__\u001b[1;34m(self, memo)\u001b[0m\n\u001b[0;32m    125\u001b[0m         \u001b[39mraise\u001b[39;00m \u001b[39mRuntimeError\u001b[39;00m(\n\u001b[0;32m    126\u001b[0m             \u001b[39m\"\u001b[39m\u001b[39mThe default implementation of __deepcopy__() for wrapper subclasses \u001b[39m\u001b[39m\"\u001b[39m\n\u001b[0;32m    127\u001b[0m             \u001b[39m\"\u001b[39m\u001b[39monly works for subclass types that implement clone() and for which \u001b[39m\u001b[39m\"\u001b[39m\n\u001b[1;32m   (...)\u001b[0m\n\u001b[0;32m    131\u001b[0m             \u001b[39m\"\u001b[39m\u001b[39mdifferent type.\u001b[39m\u001b[39m\"\u001b[39m\n\u001b[0;32m    132\u001b[0m         )\n\u001b[0;32m    133\u001b[0m \u001b[39melse\u001b[39;00m:\n\u001b[1;32m--> 134\u001b[0m     new_storage \u001b[39m=\u001b[39m \u001b[39mself\u001b[39;49m\u001b[39m.\u001b[39;49mstorage()\u001b[39m.\u001b[39;49m__deepcopy__(memo)\n\u001b[0;32m    135\u001b[0m     \u001b[39mif\u001b[39;00m \u001b[39mself\u001b[39m\u001b[39m.\u001b[39mis_quantized:\n\u001b[0;32m    136\u001b[0m         \u001b[39m# quantizer_params can be different type based on torch attribute\u001b[39;00m\n\u001b[0;32m    137\u001b[0m         quantizer_params: Union[\n\u001b[0;32m    138\u001b[0m             Tuple[torch\u001b[39m.\u001b[39mqscheme, \u001b[39mfloat\u001b[39m, \u001b[39mint\u001b[39m],\n\u001b[0;32m    139\u001b[0m             Tuple[torch\u001b[39m.\u001b[39mqscheme, Tensor, Tensor, \u001b[39mint\u001b[39m],\n\u001b[0;32m    140\u001b[0m         ]\n",
            "File \u001b[1;32md:\\Programs\\Anaconda\\lib\\site-packages\\torch\\storage.py:597\u001b[0m, in \u001b[0;36mTypedStorage.__deepcopy__\u001b[1;34m(self, memo)\u001b[0m\n\u001b[0;32m    596\u001b[0m \u001b[39mdef\u001b[39;00m \u001b[39m__deepcopy__\u001b[39m(\u001b[39mself\u001b[39m, memo):\n\u001b[1;32m--> 597\u001b[0m     \u001b[39mreturn\u001b[39;00m \u001b[39mself\u001b[39m\u001b[39m.\u001b[39m_new_wrapped_storage(copy\u001b[39m.\u001b[39;49mdeepcopy(\u001b[39mself\u001b[39;49m\u001b[39m.\u001b[39;49m_storage, memo))\n",
            "File \u001b[1;32md:\\Programs\\Anaconda\\lib\\copy.py:153\u001b[0m, in \u001b[0;36mdeepcopy\u001b[1;34m(x, memo, _nil)\u001b[0m\n\u001b[0;32m    151\u001b[0m copier \u001b[39m=\u001b[39m \u001b[39mgetattr\u001b[39m(x, \u001b[39m\"\u001b[39m\u001b[39m__deepcopy__\u001b[39m\u001b[39m\"\u001b[39m, \u001b[39mNone\u001b[39;00m)\n\u001b[0;32m    152\u001b[0m \u001b[39mif\u001b[39;00m copier \u001b[39mis\u001b[39;00m \u001b[39mnot\u001b[39;00m \u001b[39mNone\u001b[39;00m:\n\u001b[1;32m--> 153\u001b[0m     y \u001b[39m=\u001b[39m copier(memo)\n\u001b[0;32m    154\u001b[0m \u001b[39melse\u001b[39;00m:\n\u001b[0;32m    155\u001b[0m     reductor \u001b[39m=\u001b[39m dispatch_table\u001b[39m.\u001b[39mget(\u001b[39mcls\u001b[39m)\n",
            "File \u001b[1;32md:\\Programs\\Anaconda\\lib\\site-packages\\torch\\storage.py:97\u001b[0m, in \u001b[0;36m_StorageBase.__deepcopy__\u001b[1;34m(self, memo)\u001b[0m\n\u001b[0;32m     95\u001b[0m \u001b[39mif\u001b[39;00m \u001b[39mself\u001b[39m\u001b[39m.\u001b[39m_cdata \u001b[39min\u001b[39;00m memo:\n\u001b[0;32m     96\u001b[0m     \u001b[39mreturn\u001b[39;00m memo[\u001b[39mself\u001b[39m\u001b[39m.\u001b[39m_cdata]\n\u001b[1;32m---> 97\u001b[0m new_storage \u001b[39m=\u001b[39m \u001b[39mself\u001b[39;49m\u001b[39m.\u001b[39;49mclone()\n\u001b[0;32m     98\u001b[0m memo[\u001b[39mself\u001b[39m\u001b[39m.\u001b[39m_cdata] \u001b[39m=\u001b[39m new_storage\n\u001b[0;32m     99\u001b[0m \u001b[39mreturn\u001b[39;00m new_storage\n",
            "File \u001b[1;32md:\\Programs\\Anaconda\\lib\\site-packages\\torch\\storage.py:111\u001b[0m, in \u001b[0;36m_StorageBase.clone\u001b[1;34m(self)\u001b[0m\n\u001b[0;32m    109\u001b[0m \u001b[39mdef\u001b[39;00m \u001b[39mclone\u001b[39m(\u001b[39mself\u001b[39m):\n\u001b[0;32m    110\u001b[0m     \u001b[39m\"\"\"Returns a copy of this storage\"\"\"\u001b[39;00m\n\u001b[1;32m--> 111\u001b[0m     \u001b[39mreturn\u001b[39;00m \u001b[39mtype\u001b[39;49m(\u001b[39mself\u001b[39;49m)(\u001b[39mself\u001b[39;49m\u001b[39m.\u001b[39;49mnbytes(), device\u001b[39m=\u001b[39;49m\u001b[39mself\u001b[39;49m\u001b[39m.\u001b[39;49mdevice)\u001b[39m.\u001b[39mcopy_(\u001b[39mself\u001b[39m)\n",
            "\u001b[1;31mRuntimeError\u001b[0m: CUDA error: an illegal memory access was encountered\nCUDA kernel errors might be asynchronously reported at some other API call,so the stacktrace below might be incorrect.\nFor debugging consider passing CUDA_LAUNCH_BLOCKING=1."
          ]
        }
      ],
      "source": [
        "model_ft = train_model(model_ft, criterion, optimizer_ft, exp_lr_scheduler, num_epochs=5)\n",
        "model_ft.save('cnn97.pt')"
      ]
    },
    {
      "cell_type": "code",
      "execution_count": null,
      "metadata": {
        "id": "BlWFUIgxZvXd"
      },
      "outputs": [],
      "source": [
        "def test_model(model):\n",
        "  model.eval()\n",
        "  with torch.no_grad():\n",
        "\n",
        "    running_loss = 0.0\n",
        "    running_any_corrects = 0\n",
        "    running_total_corrects = 0\n",
        "\n",
        "    for inputs, labels in dataloaders['test']:\n",
        "      inputs = inputs.to(device)\n",
        "      labels = labels.to(device)\n",
        "\n",
        "      outputs = model(inputs)\n",
        "      preds = hot_to_ind(outputs)\n",
        "      target = torch.from_numpy(np.array([ml_split(image_datasets['test'].classes[label]) for label in labels])).to(device)\n",
        "      target = target.type(torch.FloatTensor).to(device)\n",
        "\n",
        "      loss = F.binary_cross_entropy(outputs, target)\n",
        "\n",
        "      ind_target = hot_to_ind(target)\n",
        "\n",
        "      running_loss += loss.item() * inputs.size(0)\n",
        "      running_any_corrects += torch.sum(preds == ind_target)\n",
        "      for i in range(len(ind_target)):\n",
        "        running_total_corrects += torch.equal(preds[i], ind_target[i])\n",
        "\n",
        "    epoch_loss = running_loss / dataset_sizes['test']\n",
        "    epoch_total_acc = float(running_total_corrects) / dataset_sizes['test']\n",
        "    epoch_any_acc = running_any_corrects.double() / (3 * dataset_sizes['test'])\n",
        "\n",
        "    print(f'Test: \\nLoss: {epoch_loss} Any Acc: {epoch_any_acc:.4f} Total Acc: {epoch_total_acc:.4f}')"
      ]
    },
    {
      "cell_type": "code",
      "execution_count": null,
      "metadata": {
        "colab": {
          "base_uri": "https://localhost:8080/"
        },
        "id": "i7uwTtVRpYoc",
        "outputId": "97ffffd9-a707-4c77-bff4-8925714a8104"
      },
      "outputs": [
        {
          "name": "stdout",
          "output_type": "stream",
          "text": [
            "Test: \n",
            "Loss: 0.006679819885641336 Any Acc: 0.9922 Total Acc: 0.9766\n"
          ]
        }
      ],
      "source": [
        "test_model(model_ft)"
      ]
    },
    {
      "cell_type": "code",
      "execution_count": null,
      "metadata": {
        "id": "dtzVkKlKpa6M"
      },
      "outputs": [],
      "source": [
        "torch.save(model_ft.state_dict(), '/content/drive/MyDrive/MLA2/cnn97_02.pt')"
      ]
    },
    {
      "cell_type": "code",
      "execution_count": null,
      "metadata": {
        "id": "Dhslec24xCA1"
      },
      "outputs": [],
      "source": [
        "model = torch.load('cnn97_active.pt', map_location=torch.device('cpu'))"
      ]
    },
    {
      "cell_type": "code",
      "execution_count": null,
      "metadata": {},
      "outputs": [],
      "source": []
    }
  ],
  "metadata": {
    "accelerator": "GPU",
    "colab": {
      "provenance": []
    },
    "gpuClass": "standard",
    "kernelspec": {
      "display_name": "Python 3.9.13 ('base')",
      "language": "python",
      "name": "python3"
    },
    "language_info": {
      "codemirror_mode": {
        "name": "ipython",
        "version": 3
      },
      "file_extension": ".py",
      "mimetype": "text/x-python",
      "name": "python",
      "nbconvert_exporter": "python",
      "pygments_lexer": "ipython3",
      "version": "3.9.13"
    },
    "vscode": {
      "interpreter": {
        "hash": "73ac9f730633c9c3aa54bc61d4a1518eb9b439b7d1460c455a4a24c056f5a2fe"
      }
    }
  },
  "nbformat": 4,
  "nbformat_minor": 0
}
